{
 "cells": [
  {
   "cell_type": "code",
   "execution_count": 1,
   "id": "2cdbc1cb-c749-4036-a038-df1c79af3e24",
   "metadata": {},
   "outputs": [
    {
     "name": "stdout",
     "output_type": "stream",
     "text": [
      "Requirement already satisfied: requests in /opt/anaconda3/lib/python3.11/site-packages (2.31.0)\n",
      "Requirement already satisfied: pandas in /opt/anaconda3/lib/python3.11/site-packages (2.1.4)\n",
      "Requirement already satisfied: google-cloud-bigquery in /opt/anaconda3/lib/python3.11/site-packages (3.19.0)\n",
      "Requirement already satisfied: charset-normalizer<4,>=2 in /opt/anaconda3/lib/python3.11/site-packages (from requests) (2.0.4)\n",
      "Requirement already satisfied: idna<4,>=2.5 in /opt/anaconda3/lib/python3.11/site-packages (from requests) (3.4)\n",
      "Requirement already satisfied: urllib3<3,>=1.21.1 in /opt/anaconda3/lib/python3.11/site-packages (from requests) (2.0.7)\n",
      "Requirement already satisfied: certifi>=2017.4.17 in /opt/anaconda3/lib/python3.11/site-packages (from requests) (2024.2.2)\n",
      "Requirement already satisfied: numpy<2,>=1.23.2 in /opt/anaconda3/lib/python3.11/site-packages (from pandas) (1.26.4)\n",
      "Requirement already satisfied: python-dateutil>=2.8.2 in /opt/anaconda3/lib/python3.11/site-packages (from pandas) (2.8.2)\n",
      "Requirement already satisfied: pytz>=2020.1 in /opt/anaconda3/lib/python3.11/site-packages (from pandas) (2023.3.post1)\n",
      "Requirement already satisfied: tzdata>=2022.1 in /opt/anaconda3/lib/python3.11/site-packages (from pandas) (2023.3)\n",
      "Requirement already satisfied: google-api-core!=2.0.*,!=2.1.*,!=2.10.*,!=2.2.*,!=2.3.*,!=2.4.*,!=2.5.*,!=2.6.*,!=2.7.*,!=2.8.*,!=2.9.*,<3.0.0dev,>=1.34.1 in /opt/anaconda3/lib/python3.11/site-packages (from google-api-core[grpc]!=2.0.*,!=2.1.*,!=2.10.*,!=2.2.*,!=2.3.*,!=2.4.*,!=2.5.*,!=2.6.*,!=2.7.*,!=2.8.*,!=2.9.*,<3.0.0dev,>=1.34.1->google-cloud-bigquery) (2.18.0)\n",
      "Requirement already satisfied: google-auth<3.0.0dev,>=2.14.1 in /opt/anaconda3/lib/python3.11/site-packages (from google-cloud-bigquery) (2.29.0)\n",
      "Requirement already satisfied: google-cloud-core<3.0.0dev,>=1.6.0 in /opt/anaconda3/lib/python3.11/site-packages (from google-cloud-bigquery) (2.4.1)\n",
      "Requirement already satisfied: google-resumable-media<3.0dev,>=0.6.0 in /opt/anaconda3/lib/python3.11/site-packages (from google-cloud-bigquery) (2.7.0)\n",
      "Requirement already satisfied: packaging>=20.0.0 in /opt/anaconda3/lib/python3.11/site-packages (from google-cloud-bigquery) (23.1)\n",
      "Requirement already satisfied: googleapis-common-protos<2.0.dev0,>=1.56.2 in /opt/anaconda3/lib/python3.11/site-packages (from google-api-core!=2.0.*,!=2.1.*,!=2.10.*,!=2.2.*,!=2.3.*,!=2.4.*,!=2.5.*,!=2.6.*,!=2.7.*,!=2.8.*,!=2.9.*,<3.0.0dev,>=1.34.1->google-api-core[grpc]!=2.0.*,!=2.1.*,!=2.10.*,!=2.2.*,!=2.3.*,!=2.4.*,!=2.5.*,!=2.6.*,!=2.7.*,!=2.8.*,!=2.9.*,<3.0.0dev,>=1.34.1->google-cloud-bigquery) (1.63.0)\n",
      "Requirement already satisfied: protobuf!=3.20.0,!=3.20.1,!=4.21.0,!=4.21.1,!=4.21.2,!=4.21.3,!=4.21.4,!=4.21.5,<5.0.0.dev0,>=3.19.5 in /opt/anaconda3/lib/python3.11/site-packages (from google-api-core!=2.0.*,!=2.1.*,!=2.10.*,!=2.2.*,!=2.3.*,!=2.4.*,!=2.5.*,!=2.6.*,!=2.7.*,!=2.8.*,!=2.9.*,<3.0.0dev,>=1.34.1->google-api-core[grpc]!=2.0.*,!=2.1.*,!=2.10.*,!=2.2.*,!=2.3.*,!=2.4.*,!=2.5.*,!=2.6.*,!=2.7.*,!=2.8.*,!=2.9.*,<3.0.0dev,>=1.34.1->google-cloud-bigquery) (4.25.3)\n",
      "Requirement already satisfied: proto-plus<2.0.0dev,>=1.22.3 in /opt/anaconda3/lib/python3.11/site-packages (from google-api-core!=2.0.*,!=2.1.*,!=2.10.*,!=2.2.*,!=2.3.*,!=2.4.*,!=2.5.*,!=2.6.*,!=2.7.*,!=2.8.*,!=2.9.*,<3.0.0dev,>=1.34.1->google-api-core[grpc]!=2.0.*,!=2.1.*,!=2.10.*,!=2.2.*,!=2.3.*,!=2.4.*,!=2.5.*,!=2.6.*,!=2.7.*,!=2.8.*,!=2.9.*,<3.0.0dev,>=1.34.1->google-cloud-bigquery) (1.23.0)\n",
      "Requirement already satisfied: grpcio<2.0dev,>=1.33.2 in /opt/anaconda3/lib/python3.11/site-packages (from google-api-core[grpc]!=2.0.*,!=2.1.*,!=2.10.*,!=2.2.*,!=2.3.*,!=2.4.*,!=2.5.*,!=2.6.*,!=2.7.*,!=2.8.*,!=2.9.*,<3.0.0dev,>=1.34.1->google-cloud-bigquery) (1.62.1)\n",
      "Requirement already satisfied: grpcio-status<2.0.dev0,>=1.33.2 in /opt/anaconda3/lib/python3.11/site-packages (from google-api-core[grpc]!=2.0.*,!=2.1.*,!=2.10.*,!=2.2.*,!=2.3.*,!=2.4.*,!=2.5.*,!=2.6.*,!=2.7.*,!=2.8.*,!=2.9.*,<3.0.0dev,>=1.34.1->google-cloud-bigquery) (1.62.1)\n",
      "Requirement already satisfied: cachetools<6.0,>=2.0.0 in /opt/anaconda3/lib/python3.11/site-packages (from google-auth<3.0.0dev,>=2.14.1->google-cloud-bigquery) (4.2.2)\n",
      "Requirement already satisfied: pyasn1-modules>=0.2.1 in /opt/anaconda3/lib/python3.11/site-packages (from google-auth<3.0.0dev,>=2.14.1->google-cloud-bigquery) (0.2.8)\n",
      "Requirement already satisfied: rsa<5,>=3.1.4 in /opt/anaconda3/lib/python3.11/site-packages (from google-auth<3.0.0dev,>=2.14.1->google-cloud-bigquery) (4.9)\n",
      "Requirement already satisfied: google-crc32c<2.0dev,>=1.0 in /opt/anaconda3/lib/python3.11/site-packages (from google-resumable-media<3.0dev,>=0.6.0->google-cloud-bigquery) (1.5.0)\n",
      "Requirement already satisfied: six>=1.5 in /opt/anaconda3/lib/python3.11/site-packages (from python-dateutil>=2.8.2->pandas) (1.16.0)\n",
      "Requirement already satisfied: pyasn1<0.5.0,>=0.4.6 in /opt/anaconda3/lib/python3.11/site-packages (from pyasn1-modules>=0.2.1->google-auth<3.0.0dev,>=2.14.1->google-cloud-bigquery) (0.4.8)\n"
     ]
    }
   ],
   "source": [
    "!pip install requests pandas google-cloud-bigquery\n"
   ]
  },
  {
   "cell_type": "raw",
   "id": "4fa944f0-1154-4a54-9ebf-5dfdc9947d3e",
   "metadata": {},
   "source": [
    "EXTRACT DATA"
   ]
  },
  {
   "cell_type": "markdown",
   "id": "65c8304e-e3cb-4aa7-b237-53e0eb155fbf",
   "metadata": {},
   "source": [
    "EXTRACT DATA"
   ]
  },
  {
   "cell_type": "code",
   "execution_count": 23,
   "id": "6e2a339a-52bd-42fe-8a1a-55f79fbce1a0",
   "metadata": {},
   "outputs": [],
   "source": [
    "import requests\n",
    "import pandas as pd\n",
    "\n",
    "def fetch_weather_data():\n",
    "\n",
    "    weather_data = {\n",
    "        'city': ['New York'],\n",
    "        'date': ['2023-08-14'],\n",
    "        'temperature': [25]\n",
    "    }\n",
    "    return pd.DataFrame.from_dict(weather_data)\n",
    "\n",
    "\n",
    "def fetch_air_quality_data():\n",
    "\n",
    "    air_quality_data = {\n",
    "        'city': ['New York'],\n",
    "        'date': ['2023-08-14'],\n",
    "        'aqi': [50]\n",
    "    }\n",
    "    return pd.DataFrame.from_dict(air_quality_data)\n",
    "\n",
    "weather_df = fetch_weather_data()\n",
    "air_quality_df = fetch_air_quality_data()\n"
   ]
  },
  {
   "cell_type": "markdown",
   "id": "b2349960-094b-40af-9b1f-c2bd9dc93b90",
   "metadata": {},
   "source": [
    "TRANSFORM DATA"
   ]
  },
  {
   "cell_type": "code",
   "execution_count": 24,
   "id": "af4ce406-80d9-44c9-9210-16ea989969c0",
   "metadata": {},
   "outputs": [],
   "source": [
    "def transform_data(weather, air_quality):\n",
    "    weather['date'] = pd.to_datetime(weather['date'])\n",
    "    air_quality['date'] = pd.to_datetime(air_quality['date'])\n",
    "\n",
    " \n",
    "    combined_df = pd.merge(weather, air_quality, on=['city', 'date'], how='inner')\n",
    "\n",
    "    combined_df.ffill(inplace=True)\n",
    "    \n",
    "    return combined_df\n",
    "\n",
    "\n",
    "transformed_df = transform_data(weather_df, air_quality_df)\n"
   ]
  },
  {
   "cell_type": "markdown",
   "id": "14c65a63-4be2-427b-ad5e-fe77b30c076f",
   "metadata": {},
   "source": [
    "Data Loading into BigQuery"
   ]
  },
  {
   "cell_type": "code",
   "execution_count": 25,
   "id": "b694663c-ece0-4a64-8025-8a8453263ff9",
   "metadata": {},
   "outputs": [],
   "source": [
    "from google.oauth2 import service_account\n",
    "from google.cloud import bigquery\n",
    "\n",
    "service_account_path = '/Users/fhariyaaseem/Downloads/web-data-418217-164309b13055.json'\n",
    "\n",
    "\n",
    "credentials = service_account.Credentials.from_service_account_file(\n",
    "    service_account_path\n",
    ")\n",
    "client = bigquery.Client(credentials=credentials, project=credentials.project_id)\n",
    "\n",
    "client = bigquery.Client(credentials=credentials)"
   ]
  },
  {
   "cell_type": "code",
   "execution_count": 31,
   "id": "4a634db2-dbfa-4ee1-b47c-17b366f6b8e3",
   "metadata": {},
   "outputs": [
    {
     "data": {
      "text/plain": [
       "Table(TableReference(DatasetReference('web-data-418217', 'weather_data'), 'weather_air_quality'))"
      ]
     },
     "execution_count": 31,
     "metadata": {},
     "output_type": "execute_result"
    }
   ],
   "source": [
    "# Correct format for project ID, dataset, and table names\n",
    "project_id = 'web-data-418217'  # Your Google Cloud project ID\n",
    "dataset_name = 'weather_data'  # Your dataset name\n",
    "table_name = 'weather_air_quality'  # Your table name\n",
    "\n",
    "\n",
    "full_dataset_id = f\"{project_id}.{dataset_name}\"\n",
    "\n",
    "\n",
    "dataset_ref = client.dataset(dataset_name, project=project_id)\n",
    "\n",
    "\n",
    "dataset = bigquery.Dataset(dataset_ref)\n",
    "\n",
    "\n",
    "dataset.location = \"US\"\n",
    "\n",
    "\n",
    "client.create_dataset(dataset, exists_ok=True)  # Make an API request.\n",
    "\n",
    "# Define the schema for your table\n",
    "schema = [\n",
    "    bigquery.SchemaField(\"city\", \"STRING\"),\n",
    "    bigquery.SchemaField(\"date\", \"DATE\"),\n",
    "    bigquery.SchemaField(\"temperature\", \"FLOAT\"),\n",
    "    bigquery.SchemaField(\"aqi\", \"INTEGER\"),\n",
    "]\n",
    "\n",
    "\n",
    "full_table_id = f\"{project_id}.{dataset_name}.{table_name}\"\n",
    "\n",
    "\n",
    "table_ref = client.dataset(dataset_name).table(table_name)\n",
    "\n",
    "\n",
    "table = bigquery.Table(table_ref, schema=schema)\n",
    "\n",
    "\n",
    "client.create_table(table, exists_ok=True)  # Make an API request.\n"
   ]
  },
  {
   "cell_type": "markdown",
   "id": "2f3c8721-09f7-491f-98eb-097030075c26",
   "metadata": {},
   "source": [
    "Load data into BigQuery"
   ]
  },
  {
   "cell_type": "code",
   "execution_count": 28,
   "id": "2c623f84-bb6c-4d5a-98a6-d9fdbf5a8c93",
   "metadata": {},
   "outputs": [
    {
     "name": "stdout",
     "output_type": "stream",
     "text": [
      "Loaded 1 rows into web-data-418217.weather_data.weather_air_quality.\n"
     ]
    }
   ],
   "source": [
    "job_config = bigquery.LoadJobConfig(schema=schema, write_disposition=\"WRITE_TRUNCATE\")\n",
    "load_job = client.load_table_from_dataframe(transformed_df, table_ref, job_config=job_config)\n",
    "load_job.result() \n",
    "\n",
    "print(f\"Loaded {load_job.output_rows} rows into {full_table_id}.\")\n"
   ]
  },
  {
   "cell_type": "code",
   "execution_count": 16,
   "id": "c4707343-6f13-42f6-8c32-0faa78b2dfab",
   "metadata": {},
   "outputs": [
    {
     "name": "stdout",
     "output_type": "stream",
     "text": [
      "Requirement already satisfied: db-dtypes in /opt/anaconda3/lib/python3.11/site-packages (1.2.0)\n",
      "Requirement already satisfied: packaging>=17.0 in /opt/anaconda3/lib/python3.11/site-packages (from db-dtypes) (23.1)\n",
      "Requirement already satisfied: pandas>=0.24.2 in /opt/anaconda3/lib/python3.11/site-packages (from db-dtypes) (2.1.4)\n",
      "Requirement already satisfied: pyarrow>=3.0.0 in /opt/anaconda3/lib/python3.11/site-packages (from db-dtypes) (14.0.2)\n",
      "Requirement already satisfied: numpy>=1.16.6 in /opt/anaconda3/lib/python3.11/site-packages (from db-dtypes) (1.26.4)\n",
      "Requirement already satisfied: python-dateutil>=2.8.2 in /opt/anaconda3/lib/python3.11/site-packages (from pandas>=0.24.2->db-dtypes) (2.8.2)\n",
      "Requirement already satisfied: pytz>=2020.1 in /opt/anaconda3/lib/python3.11/site-packages (from pandas>=0.24.2->db-dtypes) (2023.3.post1)\n",
      "Requirement already satisfied: tzdata>=2022.1 in /opt/anaconda3/lib/python3.11/site-packages (from pandas>=0.24.2->db-dtypes) (2023.3)\n",
      "Requirement already satisfied: six>=1.5 in /opt/anaconda3/lib/python3.11/site-packages (from python-dateutil>=2.8.2->pandas>=0.24.2->db-dtypes) (1.16.0)\n"
     ]
    }
   ],
   "source": [
    "!pip install db-dtypes"
   ]
  },
  {
   "cell_type": "code",
   "execution_count": 17,
   "id": "4fcd5931-e93d-4bd9-a5cf-2966c6936874",
   "metadata": {},
   "outputs": [],
   "source": [
    "import os\n",
    "\n",
    "os.environ[\"GOOGLE_APPLICATION_CREDENTIALS\"] = '/Users/fhariyaaseem/Downloads/web-data-418217-164309b13055.json'\n"
   ]
  },
  {
   "cell_type": "code",
   "execution_count": 19,
   "id": "18206f88-59b1-4cbd-8497-a6efa59d9f0a",
   "metadata": {},
   "outputs": [],
   "source": [
    "from google.cloud import bigquery\n",
    "\n",
    "client = bigquery.Client()\n"
   ]
  },
  {
   "cell_type": "markdown",
   "id": "16105979-6f6e-45cb-8aca-a6f7aacbfeb6",
   "metadata": {},
   "source": [
    "Average Temperature"
   ]
  },
  {
   "cell_type": "code",
   "execution_count": 43,
   "id": "bb24b304-2927-4b3e-8fa0-63b9810d2bc6",
   "metadata": {},
   "outputs": [
    {
     "name": "stdout",
     "output_type": "stream",
     "text": [
      "       city  avg_temp\n",
      "0  New York      25.0\n"
     ]
    }
   ],
   "source": [
    "from google.cloud import bigquery\n",
    "\n",
    "client = bigquery.Client()\n",
    "\n",
    "query = f\"\"\"\n",
    "SELECT city, AVG(temperature) AS avg_temp\n",
    "FROM `{full_table_id}`\n",
    "GROUP BY city\n",
    "\"\"\"\n",
    "query_job = client.query(query) \n",
    "\n",
    "query_results_df = query_job.to_dataframe()\n",
    "\n",
    "print(query_results_df)\n",
    "\n"
   ]
  },
  {
   "cell_type": "markdown",
   "id": "0b3299ee-0326-43aa-b0ae-b283ebe13404",
   "metadata": {},
   "source": [
    "Minimum and Maximum Temperature "
   ]
  },
  {
   "cell_type": "code",
   "execution_count": 39,
   "id": "315d3336-6abe-436a-b405-05c6b9454123",
   "metadata": {},
   "outputs": [
    {
     "name": "stdout",
     "output_type": "stream",
     "text": [
      "   year  max_temp  min_temp\n",
      "0  2023      25.0      25.0\n"
     ]
    }
   ],
   "source": [
    "from google.cloud import bigquery\n",
    "\n",
    "client = bigquery.Client()\n",
    "\n",
    "query_yearly_temp_range = f\"\"\"\n",
    "SELECT EXTRACT(YEAR FROM date) AS year, MAX(temperature) AS max_temp, MIN(temperature) AS min_temp\n",
    "FROM `{full_table_id}`\n",
    "GROUP BY year\n",
    "ORDER BY year\n",
    "\"\"\"\n",
    "query_job_yearly_temp_range = client.query(query_yearly_temp_range)\n",
    "df_yearly_temp_range = query_job_yearly_temp_range.to_dataframe()\n",
    "\n",
    "print(df_yearly_temp_range)\n"
   ]
  },
  {
   "cell_type": "markdown",
   "id": "41a430a1-919b-4611-86e3-d387e585e906",
   "metadata": {},
   "source": [
    "Average AQI for Each Month Across All Cities"
   ]
  },
  {
   "cell_type": "code",
   "execution_count": 38,
   "id": "0509a277-b11e-44a8-a476-c756acff2604",
   "metadata": {},
   "outputs": [
    {
     "name": "stdout",
     "output_type": "stream",
     "text": [
      "   year  month  avg_aqi\n",
      "0  2023      8     50.0\n"
     ]
    }
   ],
   "source": [
    "from google.cloud import bigquery\n",
    "\n",
    "client = bigquery.Client()\n",
    "\n",
    "query_monthly_avg_aqi = f\"\"\"\n",
    "SELECT EXTRACT(YEAR FROM date) AS year, EXTRACT(MONTH FROM date) AS month, AVG(aqi) AS avg_aqi\n",
    "FROM `{full_table_id}`\n",
    "GROUP BY year, month\n",
    "ORDER BY year, month\n",
    "\"\"\"\n",
    "query_job_monthly_avg_aqi = client.query(query_monthly_avg_aqi)\n",
    "df_monthly_avg_aqi = query_job_monthly_avg_aqi.to_dataframe()\n",
    "\n",
    "print(df_monthly_avg_aqi)\n"
   ]
  },
  {
   "cell_type": "markdown",
   "id": "3e19f5e4-000c-4549-803a-d41493965e6c",
   "metadata": {},
   "source": [
    "Yearly Average Temperature Comparison for Nyc"
   ]
  },
  {
   "cell_type": "code",
   "execution_count": 37,
   "id": "fe19bd84-ea35-4606-9e6b-ea7442158fc1",
   "metadata": {},
   "outputs": [
    {
     "name": "stdout",
     "output_type": "stream",
     "text": [
      "   year  avg_temp\n",
      "0  2023      25.0\n"
     ]
    }
   ],
   "source": [
    "from google.cloud import bigquery\n",
    "\n",
    "client = bigquery.Client()\n",
    "\n",
    "query_temp_trend_over_years = f\"\"\"\n",
    "SELECT EXTRACT(YEAR FROM date) AS year, AVG(temperature) AS avg_temp\n",
    "FROM `{full_table_id}`\n",
    "GROUP BY year\n",
    "ORDER BY year\n",
    "\"\"\"\n",
    "query_job_temp_trend_over_years = client.query(query_temp_trend_over_years)\n",
    "df_temp_trend_over_years = query_job_temp_trend_over_years.to_dataframe()\n",
    "\n",
    "print(df_temp_trend_over_years)"
   ]
  },
  {
   "cell_type": "code",
   "execution_count": null,
   "id": "976963c8-01d5-4680-bfa0-b3f0e1a91585",
   "metadata": {},
   "outputs": [],
   "source": []
  }
 ],
 "metadata": {
  "kernelspec": {
   "display_name": "Python 3 (ipykernel)",
   "language": "python",
   "name": "python3"
  },
  "language_info": {
   "codemirror_mode": {
    "name": "ipython",
    "version": 3
   },
   "file_extension": ".py",
   "mimetype": "text/x-python",
   "name": "python",
   "nbconvert_exporter": "python",
   "pygments_lexer": "ipython3",
   "version": "3.11.7"
  }
 },
 "nbformat": 4,
 "nbformat_minor": 5
}
